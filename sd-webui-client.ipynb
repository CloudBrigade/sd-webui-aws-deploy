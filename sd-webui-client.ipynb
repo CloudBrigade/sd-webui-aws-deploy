{
 "cells": [
  {
   "cell_type": "code",
   "execution_count": 1,
   "id": "3914763f-c009-40a4-9b69-6e57d121d540",
   "metadata": {},
   "outputs": [
    {
     "name": "stdout",
     "output_type": "stream",
     "text": [
      "Requirement already satisfied: webuiapi in /Volumes/Data/Development/Projects/ASL/mediapipe/examples/python3.11/lib/python3.11/site-packages (0.9.5)\n",
      "Requirement already satisfied: requests in /Volumes/Data/Development/Projects/ASL/mediapipe/examples/python3.11/lib/python3.11/site-packages (from webuiapi) (2.31.0)\n",
      "Requirement already satisfied: Pillow in /Volumes/Data/Development/Projects/ASL/mediapipe/examples/python3.11/lib/python3.11/site-packages (from webuiapi) (10.0.0)\n",
      "Requirement already satisfied: charset-normalizer<4,>=2 in /Volumes/Data/Development/Projects/ASL/mediapipe/examples/python3.11/lib/python3.11/site-packages (from requests->webuiapi) (3.2.0)\n",
      "Requirement already satisfied: idna<4,>=2.5 in /Volumes/Data/Development/Projects/ASL/mediapipe/examples/python3.11/lib/python3.11/site-packages (from requests->webuiapi) (3.4)\n",
      "Requirement already satisfied: urllib3<3,>=1.21.1 in /Volumes/Data/Development/Projects/ASL/mediapipe/examples/python3.11/lib/python3.11/site-packages (from requests->webuiapi) (2.0.4)\n",
      "Requirement already satisfied: certifi>=2017.4.17 in /Volumes/Data/Development/Projects/ASL/mediapipe/examples/python3.11/lib/python3.11/site-packages (from requests->webuiapi) (2023.7.22)\n",
      "Note: you may need to restart the kernel to use updated packages.\n"
     ]
    }
   ],
   "source": [
    "pip install webuiapi"
   ]
  },
  {
   "cell_type": "code",
   "execution_count": 9,
   "id": "2d0b9b4b-b33f-4a85-9ad1-31f38d63b354",
   "metadata": {},
   "outputs": [],
   "source": [
    "import webuiapi\n",
    "\n",
    "# create API client\n",
    "api = webuiapi.WebUIApi()\n",
    "\n",
    "# create API client with custom host, port\n",
    "# api = webuiapi.WebUIApi(host='34.214.250.239', port=7860)\n",
    "api = webuiapi.WebUIApi(host='35.155.150.45', port=7860)\n",
    "\n",
    "# create API client with custom host, port and https\n",
    "#api = webuiapi.WebUIApi(host='webui.example.com', port=443, use_https=True)\n",
    "\n",
    "# create API client with default sampler, steps.\n",
    "#api = webuiapi.WebUIApi(sampler='Euler a', steps=20)\n",
    "\n",
    "# optionally set username, password when --api-auth=username:password is set on webui.\n",
    "# username, password are not protected and can be derived easily if the communication channel is not encrypted.\n",
    "# you can also pass username, password to the WebUIApi constructor.\n",
    "api.set_auth('username', 'password')"
   ]
  },
  {
   "cell_type": "code",
   "execution_count": 16,
   "id": "86de97c8-cf84-45e7-92ce-b70ac1c14b7c",
   "metadata": {},
   "outputs": [
    {
     "ename": "RuntimeError",
     "evalue": "(500, '{\"error\":\"TypeError\",\"detail\":\"\",\"body\":\"\",\"errors\":\"join() argument must be str, bytes, or os.PathLike object, not \\'bool\\'\"}')",
     "output_type": "error",
     "traceback": [
      "\u001b[0;31m---------------------------------------------------------------------------\u001b[0m",
      "\u001b[0;31mRuntimeError\u001b[0m                              Traceback (most recent call last)",
      "Cell \u001b[0;32mIn[16], line 3\u001b[0m\n\u001b[1;32m      1\u001b[0m \u001b[38;5;28;01mimport\u001b[39;00m \u001b[38;5;21;01mtime\u001b[39;00m\n\u001b[1;32m      2\u001b[0m start_time \u001b[38;5;241m=\u001b[39m time\u001b[38;5;241m.\u001b[39mtime()\n\u001b[0;32m----> 3\u001b[0m result1 \u001b[38;5;241m=\u001b[39m \u001b[43mapi\u001b[49m\u001b[38;5;241;43m.\u001b[39;49m\u001b[43mtxt2img\u001b[49m\u001b[43m(\u001b[49m\u001b[43mprompt\u001b[49m\u001b[38;5;241;43m=\u001b[39;49m\u001b[38;5;124;43m\"\u001b[39;49m\u001b[38;5;124;43mcute squirrel\u001b[39;49m\u001b[38;5;124;43m\"\u001b[39;49m\u001b[43m,\u001b[49m\n\u001b[1;32m      4\u001b[0m \u001b[43m                    \u001b[49m\u001b[43mnegative_prompt\u001b[49m\u001b[38;5;241;43m=\u001b[39;49m\u001b[38;5;124;43m\"\u001b[39;49m\u001b[38;5;124;43mugly, out of frame\u001b[39;49m\u001b[38;5;124;43m\"\u001b[39;49m\u001b[43m,\u001b[49m\n\u001b[1;32m      5\u001b[0m \u001b[43m                    \u001b[49m\u001b[43mseed\u001b[49m\u001b[38;5;241;43m=\u001b[39;49m\u001b[38;5;241;43m1003\u001b[39;49m\u001b[43m,\u001b[49m\n\u001b[1;32m      6\u001b[0m \u001b[43m                    \u001b[49m\u001b[43mstyles\u001b[49m\u001b[38;5;241;43m=\u001b[39;49m\u001b[43m[\u001b[49m\u001b[38;5;124;43m\"\u001b[39;49m\u001b[38;5;124;43manime\u001b[39;49m\u001b[38;5;124;43m\"\u001b[39;49m\u001b[43m]\u001b[49m\u001b[43m,\u001b[49m\n\u001b[1;32m      7\u001b[0m \u001b[43m                    \u001b[49m\u001b[43mcfg_scale\u001b[49m\u001b[38;5;241;43m=\u001b[39;49m\u001b[38;5;241;43m7\u001b[39;49m\u001b[43m,\u001b[49m\n\u001b[1;32m      8\u001b[0m \u001b[43m                    \u001b[49m\u001b[43mscript_name\u001b[49m\u001b[38;5;241;43m=\u001b[39;49m\u001b[38;5;124;43m\"\u001b[39;49m\u001b[38;5;124;43mAccelerate with OpenVINO\u001b[39;49m\u001b[38;5;124;43m\"\u001b[39;49m\u001b[43m,\u001b[49m\n\u001b[1;32m      9\u001b[0m \u001b[38;5;66;43;03m#                      script_args=[]\u001b[39;49;00m\n\u001b[1;32m     10\u001b[0m \u001b[38;5;66;43;03m#                      sampler_index='DDIM',\u001b[39;49;00m\n\u001b[1;32m     11\u001b[0m \u001b[38;5;66;43;03m#                      steps=30,\u001b[39;49;00m\n\u001b[1;32m     12\u001b[0m \u001b[38;5;66;43;03m#                      enable_hr=True,\u001b[39;49;00m\n\u001b[1;32m     13\u001b[0m \u001b[38;5;66;43;03m#                      hr_scale=2,\u001b[39;49;00m\n\u001b[1;32m     14\u001b[0m \u001b[38;5;66;43;03m#                      hr_upscaler=webuiapi.HiResUpscaler.Latent,\u001b[39;49;00m\n\u001b[1;32m     15\u001b[0m \u001b[38;5;66;43;03m#                      hr_second_pass_steps=20,\u001b[39;49;00m\n\u001b[1;32m     16\u001b[0m \u001b[38;5;66;43;03m#                      hr_resize_x=1536,\u001b[39;49;00m\n\u001b[1;32m     17\u001b[0m \u001b[38;5;66;43;03m#                      hr_resize_y=1024,\u001b[39;49;00m\n\u001b[1;32m     18\u001b[0m \u001b[38;5;66;43;03m#                      denoising_strength=0.4,\u001b[39;49;00m\n\u001b[1;32m     19\u001b[0m \n\u001b[1;32m     20\u001b[0m \u001b[43m                    \u001b[49m\u001b[43m)\u001b[49m\n\u001b[1;32m     21\u001b[0m \u001b[38;5;66;03m# images contains the returned images (PIL images)\u001b[39;00m\n\u001b[1;32m     22\u001b[0m \u001b[38;5;66;03m#result1.images\u001b[39;00m\n\u001b[1;32m     23\u001b[0m \n\u001b[0;32m   (...)\u001b[0m\n\u001b[1;32m     30\u001b[0m \u001b[38;5;66;03m# info contains paramteres of the api call\u001b[39;00m\n\u001b[1;32m     31\u001b[0m \u001b[38;5;66;03m#result1.parameters\u001b[39;00m\n\u001b[1;32m     33\u001b[0m result1\u001b[38;5;241m.\u001b[39mimage\n",
      "File \u001b[0;32m/Volumes/Data/Development/Projects/ASL/mediapipe/examples/python3.11/lib/python3.11/site-packages/webuiapi/webuiapi.py:344\u001b[0m, in \u001b[0;36mWebUIApi.txt2img\u001b[0;34m(self, enable_hr, denoising_strength, firstphase_width, firstphase_height, hr_scale, hr_upscaler, hr_second_pass_steps, hr_resize_x, hr_resize_y, prompt, styles, seed, subseed, subseed_strength, seed_resize_from_h, seed_resize_from_w, sampler_name, batch_size, n_iter, steps, cfg_scale, width, height, restore_faces, tiling, do_not_save_samples, do_not_save_grid, negative_prompt, eta, s_churn, s_tmax, s_tmin, s_noise, override_settings, override_settings_restore_afterwards, script_args, script_name, send_images, save_images, alwayson_scripts, controlnet_units, sampler_index, use_deprecated_controlnet, use_async)\u001b[0m\n\u001b[1;32m    340\u001b[0m \u001b[38;5;28;01melif\u001b[39;00m \u001b[38;5;28mself\u001b[39m\u001b[38;5;241m.\u001b[39mhas_controlnet:\n\u001b[1;32m    341\u001b[0m     \u001b[38;5;66;03m# workaround : if not passed, webui will use previous args!\u001b[39;00m\n\u001b[1;32m    342\u001b[0m     payload[\u001b[38;5;124m\"\u001b[39m\u001b[38;5;124malwayson_scripts\u001b[39m\u001b[38;5;124m\"\u001b[39m][\u001b[38;5;124m\"\u001b[39m\u001b[38;5;124mControlNet\u001b[39m\u001b[38;5;124m\"\u001b[39m] \u001b[38;5;241m=\u001b[39m {\u001b[38;5;124m\"\u001b[39m\u001b[38;5;124margs\u001b[39m\u001b[38;5;124m\"\u001b[39m: []}\n\u001b[0;32m--> 344\u001b[0m \u001b[38;5;28;01mreturn\u001b[39;00m \u001b[38;5;28;43mself\u001b[39;49m\u001b[38;5;241;43m.\u001b[39;49m\u001b[43mpost_and_get_api_result\u001b[49m\u001b[43m(\u001b[49m\n\u001b[1;32m    345\u001b[0m \u001b[43m    \u001b[49m\u001b[38;5;124;43mf\u001b[39;49m\u001b[38;5;124;43m\"\u001b[39;49m\u001b[38;5;132;43;01m{\u001b[39;49;00m\u001b[38;5;28;43mself\u001b[39;49m\u001b[38;5;241;43m.\u001b[39;49m\u001b[43mbaseurl\u001b[49m\u001b[38;5;132;43;01m}\u001b[39;49;00m\u001b[38;5;124;43m/txt2img\u001b[39;49m\u001b[38;5;124;43m\"\u001b[39;49m\u001b[43m,\u001b[49m\u001b[43m \u001b[49m\u001b[43mpayload\u001b[49m\u001b[43m,\u001b[49m\u001b[43m \u001b[49m\u001b[43muse_async\u001b[49m\n\u001b[1;32m    346\u001b[0m \u001b[43m\u001b[49m\u001b[43m)\u001b[49m\n",
      "File \u001b[0;32m/Volumes/Data/Development/Projects/ASL/mediapipe/examples/python3.11/lib/python3.11/site-packages/webuiapi/webuiapi.py:355\u001b[0m, in \u001b[0;36mWebUIApi.post_and_get_api_result\u001b[0;34m(self, url, json, use_async)\u001b[0m\n\u001b[1;32m    353\u001b[0m \u001b[38;5;28;01melse\u001b[39;00m:\n\u001b[1;32m    354\u001b[0m     response \u001b[38;5;241m=\u001b[39m \u001b[38;5;28mself\u001b[39m\u001b[38;5;241m.\u001b[39msession\u001b[38;5;241m.\u001b[39mpost(url\u001b[38;5;241m=\u001b[39murl, json\u001b[38;5;241m=\u001b[39mjson)\n\u001b[0;32m--> 355\u001b[0m     \u001b[38;5;28;01mreturn\u001b[39;00m \u001b[38;5;28;43mself\u001b[39;49m\u001b[38;5;241;43m.\u001b[39;49m\u001b[43m_to_api_result\u001b[49m\u001b[43m(\u001b[49m\u001b[43mresponse\u001b[49m\u001b[43m)\u001b[49m\n",
      "File \u001b[0;32m/Volumes/Data/Development/Projects/ASL/mediapipe/examples/python3.11/lib/python3.11/site-packages/webuiapi/webuiapi.py:177\u001b[0m, in \u001b[0;36mWebUIApi._to_api_result\u001b[0;34m(self, response)\u001b[0m\n\u001b[1;32m    175\u001b[0m \u001b[38;5;28;01mdef\u001b[39;00m \u001b[38;5;21m_to_api_result\u001b[39m(\u001b[38;5;28mself\u001b[39m, response):\n\u001b[1;32m    176\u001b[0m     \u001b[38;5;28;01mif\u001b[39;00m response\u001b[38;5;241m.\u001b[39mstatus_code \u001b[38;5;241m!=\u001b[39m \u001b[38;5;241m200\u001b[39m:\n\u001b[0;32m--> 177\u001b[0m         \u001b[38;5;28;01mraise\u001b[39;00m \u001b[38;5;167;01mRuntimeError\u001b[39;00m(response\u001b[38;5;241m.\u001b[39mstatus_code, response\u001b[38;5;241m.\u001b[39mtext)\n\u001b[1;32m    179\u001b[0m     r \u001b[38;5;241m=\u001b[39m response\u001b[38;5;241m.\u001b[39mjson()\n\u001b[1;32m    180\u001b[0m     images \u001b[38;5;241m=\u001b[39m []\n",
      "\u001b[0;31mRuntimeError\u001b[0m: (500, '{\"error\":\"TypeError\",\"detail\":\"\",\"body\":\"\",\"errors\":\"join() argument must be str, bytes, or os.PathLike object, not \\'bool\\'\"}')"
     ]
    }
   ],
   "source": [
    "import time\n",
    "start_time = time.time()\n",
    "result1 = api.txt2img(prompt=\"cute squirrel\",\n",
    "                    negative_prompt=\"ugly, out of frame\",\n",
    "                    seed=1003,\n",
    "                    styles=[\"anime\"],\n",
    "                    cfg_scale=7,\n",
    "                    script_name=\"Accelerate with OpenVINO\",\n",
    "#                      script_args=[]\n",
    "#                      sampler_index='DDIM',\n",
    "#                      steps=30,\n",
    "#                      enable_hr=True,\n",
    "#                      hr_scale=2,\n",
    "#                      hr_upscaler=webuiapi.HiResUpscaler.Latent,\n",
    "#                      hr_second_pass_steps=20,\n",
    "#                      hr_resize_x=1536,\n",
    "#                      hr_resize_y=1024,\n",
    "#                      denoising_strength=0.4,\n",
    "\n",
    "                    )\n",
    "# images contains the returned images (PIL images)\n",
    "#result1.images\n",
    "\n",
    "# image is shorthand for images[0]\n",
    "#result1.image\n",
    "\n",
    "# info contains text info about the api call\n",
    "#result1.info\n",
    "\n",
    "# info contains paramteres of the api call\n",
    "#result1.parameters\n",
    "\n",
    "result1.image"
   ]
  },
  {
   "cell_type": "code",
   "execution_count": 15,
   "id": "72aa8127-4961-44c5-b204-e32d5bb1e4a7",
   "metadata": {},
   "outputs": [
    {
     "name": "stdout",
     "output_type": "stream",
     "text": [
      "--- 1.1053047180175781 seconds ---\n"
     ]
    }
   ],
   "source": [
    "print(\"--- %s seconds ---\" % (time.time() - start_time))"
   ]
  },
  {
   "cell_type": "code",
   "execution_count": null,
   "id": "f1f0a718-c2f6-4b99-a39b-5665e1e7de48",
   "metadata": {},
   "outputs": [],
   "source": []
  }
 ],
 "metadata": {
  "kernelspec": {
   "display_name": "Python3.11",
   "language": "python",
   "name": "data-science"
  },
  "language_info": {
   "codemirror_mode": {
    "name": "ipython",
    "version": 3
   },
   "file_extension": ".py",
   "mimetype": "text/x-python",
   "name": "python",
   "nbconvert_exporter": "python",
   "pygments_lexer": "ipython3",
   "version": "3.11.4"
  }
 },
 "nbformat": 4,
 "nbformat_minor": 5
}
